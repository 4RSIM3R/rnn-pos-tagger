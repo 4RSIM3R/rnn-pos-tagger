{
 "cells": [
  {
   "cell_type": "code",
   "execution_count": null,
   "metadata": {},
   "outputs": [],
   "source": [
    "%pip install numpy matplotlib seaborn scikit nltk tensorflow keras gensim"
   ]
  },
  {
   "cell_type": "code",
   "execution_count": null,
   "metadata": {},
   "outputs": [],
   "source": [
    "import numpy as np\n",
    "import matplotlib.pyplot as plt\n",
    "import seaborn as sns\n",
    "import nltk\n",
    "import keras\n",
    "from keras.preprocessing.text import Tokenizer\n",
    "from keras.utils import pad_sequences\n",
    "from gensim.models import Word2Vec\n",
    "from tensorflow.keras.models import Sequential\n",
    "from tensorflow.keras.layers import Embedding, SimpleRNN, Dense, TimeDistributed\n",
    "from tensorflow.keras.layers import Embedding"
   ]
  },
  {
   "cell_type": "code",
   "execution_count": null,
   "metadata": {},
   "outputs": [],
   "source": [
    "# Contoh Dataset POS (Part Of Speech) Menggunakan Bahasa Jawab\n",
    "\n",
    "sentences = [\n",
    "    ['Bapak', 'ngaso', 'wonten', 'griya'],\n",
    "    ['Bapak', 'badhe', 'tumbas', 'buku', 'ing', 'toko'],\n",
    "    [\"aku\", \"tuku\", \" beras\"],\n",
    "    [\"dheweke\", \"mangan\", \" nasi\"]\n",
    "]\n",
    "\n",
    "tags = [\n",
    "    ['NOUN', 'VERB', 'ADP', 'NOUN'],\n",
    "    ['PRON', 'AUX', 'VERB', 'NOUN', 'ADP', 'NOUN'],\n",
    "    [\"PRON\", \"VERB\", \"NOUN\"],\n",
    "    [\"PRON\", \"VERB\", \"NOUN\"],\n",
    "]\n",
    "\n",
    "# Combine the words and tags into a list of sentences with tagged words\n",
    "tagged_sentences = [[(word, tag) for word, tag in zip(sentence, tag_list)]\n",
    "                   \n",
    "                    for sentence, tag_list in zip(sentences, tags)]\n",
    "\n",
    "print(tagged_sentences)"
   ]
  },
  {
   "cell_type": "code",
   "execution_count": null,
   "metadata": {},
   "outputs": [],
   "source": [
    "# Menyimpan Dataset ke dalam bentuk file txt\n",
    "\n",
    "with open('pos_tags_sentences.txt', 'w', encoding='utf-8') as file:\n",
    "    for sentence, tag_list in zip(sentences, tags):\n",
    "        file.write(' '.join(sentence) + \"\\n\")\n",
    "        file.write(' '.join(tag_list) + \"\\n\")"
   ]
  },
  {
   "cell_type": "code",
   "execution_count": null,
   "metadata": {},
   "outputs": [],
   "source": [
    "# Fungsi baca Dataset dari file txt \n",
    "\n",
    "def read_sentences_tags(filepath):\n",
    "    with open(filepath, 'r', encoding='utf-8') as file:\n",
    "        lines = file.readlines()\n",
    "        sentences = []\n",
    "        tags = []\n",
    "        for i in range(0, len(lines), 2):\n",
    "            sentences.append(lines[i].strip().split())\n",
    "            tags.append(lines[i+1].strip().split())\n",
    "    return sentences, tags"
   ]
  },
  {
   "cell_type": "code",
   "execution_count": null,
   "metadata": {},
   "outputs": [],
   "source": [
    "# Fungsi baca Dataset dari file txt \n",
    "\n",
    "filepath = 'pos_tags_sentences.txt'\n",
    "sentences, tags = read_sentences_tags(filepath)\n",
    "print(\"Loaded Sentences:\", sentences)\n",
    "print(\"Loaded Tags:\", tags)"
   ]
  },
  {
   "cell_type": "code",
   "execution_count": null,
   "metadata": {},
   "outputs": [],
   "source": [
    "# Inspeksi dataset, lihat antara kata dan tag nya apa\n",
    "\n",
    "tagged_sentences = [[(word, tag) for word, tag in zip(sentence, tag_list)]\n",
    "                   \n",
    "                    for sentence, tag_list in zip(sentences, tags)]\n",
    "\n",
    "print(tagged_sentences)"
   ]
  },
  {
   "cell_type": "code",
   "execution_count": null,
   "metadata": {},
   "outputs": [],
   "source": [
    "# semua sentences di lower case, dengan asumsi besar kecil huruf tidak berpengaruh terhadap tag\n",
    "\n",
    "sentences = [[word.lower() for word in sublist] for sublist in sentences]\n",
    "print(sentences)"
   ]
  },
  {
   "cell_type": "code",
   "execution_count": null,
   "metadata": {},
   "outputs": [],
   "source": [
    "# Ubah kata dalam bentuk token, karena program tidak mengerti dalam bentuk string\n",
    "# Selanjutnya, akan di perkenalkan teknik yang lebih advanced yaitu penggunaan word embedding yang dapat menambahkan smiliaity antar kata\n",
    "\n",
    "# Feed the tokenizer\n",
    "tokenizer = Tokenizer()\n",
    "\n",
    "# Tokenizers for sentences and tags\n",
    "word_tokenizer = Tokenizer()\n",
    "tag_tokenizer = Tokenizer()\n",
    "\n",
    "# Fit tokenizers on data\n",
    "word_tokenizer.fit_on_texts(sentences)\n",
    "tag_tokenizer.fit_on_texts(tags)\n",
    "\n",
    "# Convert sentences and tags into sequences\n",
    "X_train = word_tokenizer.texts_to_sequences(sentences)\n",
    "y_train = tag_tokenizer.texts_to_sequences(tags)\n",
    "\n",
    "# Example output after tokenizing\n",
    "print(\"Tokenized sentences:\", X_train)\n",
    "print(\"Tokenized tags:\", y_train)"
   ]
  },
  {
   "cell_type": "code",
   "execution_count": null,
   "metadata": {},
   "outputs": [],
   "source": [
    "# Padding di gunakan untuk menyamakan ukuran kalimat, karena antar kalimat panjang kata mungkin beda\n",
    "\n",
    "# Pad sequences\n",
    "max_len = max(len(s) for s in X_train)  # Maximum sentence length\n",
    "\n",
    "X_train_padded = pad_sequences(X_train, maxlen=max_len, padding='pre', truncating=\"post\")\n",
    "y_train_padded = pad_sequences(y_train, maxlen=max_len, padding='pre', truncating=\"post\")\n",
    "\n",
    "print(\"Padded sentences:\", X_train_padded)\n",
    "print(\"Padded tags:\", y_train_padded)"
   ]
  },
  {
   "cell_type": "code",
   "execution_count": null,
   "metadata": {},
   "outputs": [],
   "source": [
    "vocab_size = len(word_tokenizer.word_index) + 1\n",
    "tag_size = len(tag_tokenizer.word_index) + 1\n",
    "\n",
    "print(vocab_size, tag_size)"
   ]
  },
  {
   "cell_type": "code",
   "execution_count": null,
   "metadata": {},
   "outputs": [],
   "source": [
    "# Arsitektur RNN baru disini, disini lah yang bisa kita utak atik untuk optimalisasi\n",
    "\n",
    "# Dimensionality of the embedding space\n",
    "embedding_dim = 100\n",
    "\n",
    "model = Sequential([\n",
    "    Embedding(input_dim=vocab_size, output_dim=embedding_dim, trainable=True),  # Use the embedding layer as the first layer\n",
    "    SimpleRNN(units=64, return_sequences=True),  # RNN layer\n",
    "    TimeDistributed(Dense(tag_size, activation='softmax'))  # Output layer for each token\n",
    "])\n",
    "\n",
    "model.compile(optimizer='adam', loss='sparse_categorical_crossentropy', metrics=['accuracy'])\n",
    "model.summary()\n",
    "\n",
    "# Assuming you have padded your inputs as X_train_padded and outputs as y_train_padded\n",
    "# Train the model\n",
    "model.fit(X_train_padded, y_train_padded, batch_size=2, epochs=40)"
   ]
  },
  {
   "cell_type": "code",
   "execution_count": null,
   "metadata": {},
   "outputs": [],
   "source": [
    "# testing\n",
    "\n",
    "test_sentence = [\"aku tuku beras\"]\n",
    "test_seq = word_tokenizer.texts_to_sequences(test_sentence)\n",
    "test_padded = pad_sequences(test_seq, maxlen=max_len, padding='post')"
   ]
  },
  {
   "cell_type": "code",
   "execution_count": null,
   "metadata": {},
   "outputs": [],
   "source": [
    "prediction = model.predict(test_padded)\n",
    "predicted_indices = np.argmax(prediction, axis=-1)[0]  # get index of max prob in predictions for each position\n",
    "\n",
    "# Translate indices to tags\n",
    "predicted_tags = [tag_tokenizer.index_word.get(i, 'UNK') for i in predicted_indices]  # Use get to avoid KeyError\n",
    "\n",
    "print(\"Test Sentence:\", test_sentence)\n",
    "print(\"Predicted Tags:\", predicted_tags)"
   ]
  }
 ],
 "metadata": {
  "kernelspec": {
   "display_name": "Python 3",
   "language": "python",
   "name": "python3"
  },
  "language_info": {
   "codemirror_mode": {
    "name": "ipython",
    "version": 3
   },
   "file_extension": ".py",
   "mimetype": "text/x-python",
   "name": "python",
   "nbconvert_exporter": "python",
   "pygments_lexer": "ipython3",
   "version": "3.9.13"
  }
 },
 "nbformat": 4,
 "nbformat_minor": 2
}
